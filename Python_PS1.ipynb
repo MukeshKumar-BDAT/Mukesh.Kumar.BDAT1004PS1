{
 "cells": [
  {
   "cell_type": "markdown",
   "metadata": {},
   "source": [
    "## Question 6\n",
    "\n",
    "You can turn a word into pig-Latin using the following two rules (simplified):\n",
    "• If the word starts with a consonant, move that letter to the end and append\n",
    "'ay'. For example, 'happy' becomes 'appyhay' and 'pencil' becomes 'encilpay'.\n",
    "• If the word starts with a vowel, simply append 'way' to the end of the word.\n",
    "For example, 'enter' becomes 'enterway' and 'other' becomes 'otherway' . For\n",
    "our purposes, there are 5 vowels: a, e, i, o, u (so we count y as a consonant).\n",
    "Write a function pig() that takes a word (i.e., a string) as input and returns its pigLatin form. Your function should still work if the input word contains upper case\n",
    "characters. Your output should always be lower case however.\n",
    "\n",
    "pig('happy')\n",
    "'appyhay'\n",
    "\n",
    "pig('Enter')\n",
    "'enterway' \n"
   ]
  },
  {
   "cell_type": "code",
   "execution_count": 95,
   "metadata": {},
   "outputs": [
    {
     "name": "stdout",
     "output_type": "stream",
     "text": [
      "Enter word to convert it to pig-Latin\n",
      "mukesh\n",
      "ukeshmay\n"
     ]
    }
   ],
   "source": [
    "def pig(inputString):\n",
    "    firstLetter=inputString[0]\n",
    "    \n",
    "    #using if else statment to find if first statment is vowel or constant\n",
    "    \n",
    "    if firstLetter in (\"A\",\"a\",\"E\",\"e\",\"I\",\"i\",\"O\",\"o\",\"U\",\"u\"):\n",
    "        inputString=inputString+\"way\"\n",
    "        \n",
    "    #using lower method to convert it to lowercase\n",
    "    \n",
    "        print(inputString.lower())\n",
    "    else:\n",
    "        outputString=inputString[1:]+inputString[0]+\"ay\"\n",
    "        print(outputString.lower())\n",
    "        \n",
    "print(\"Enter word to convert it to pig-Latin\")\n",
    "x=input()\n",
    "pig(x)"
   ]
  },
  {
   "cell_type": "markdown",
   "metadata": {},
   "source": [
    "## Question 7\n",
    "\n",
    "File bloodtype1.txt records blood-types of patients (A, B, AB, O or OO) at a clinic.\n",
    "Write a function bldcount() that reads the file with name name and reports (i.e.,\n",
    "prints) how many patients there are in each bloodtype.\n",
    " bldcount('bloodtype.txt')\n",
    "There are 10 patients of blood type A.\n",
    "There is one patient of blood type B.\n",
    "There are 10 patients of blood type AB.\n",
    "There are 12 patients of blood type O.\n",
    "There are no patients of blood type OO."
   ]
  },
  {
   "cell_type": "code",
   "execution_count": 73,
   "metadata": {},
   "outputs": [
    {
     "name": "stdout",
     "output_type": "stream",
     "text": [
      "AB AB B O A A AB O AB A O O A A A O O O AB O A A A A A AB AB A AB O AB O A O O O AB O AB AB AB A A O \n",
      "\n",
      "There are  15  patients of blood type A\n",
      "There are  13  patients of blood type ab\n",
      "There are  15  patients of blood type O\n",
      "There are  0  patients of blood type OO\n",
      "There are  1  patients of blood type B\n"
     ]
    }
   ],
   "source": [
    "\n",
    "filedata = open(\"bloodtype1.txt\", \"r\")\n",
    "bloodrecord = filedata.read()\n",
    "print(bloodrecord)\n",
    "\n",
    "def bldcount(bloodrecord):\n",
    "    arr = bloodrecord.split(\" \")\n",
    "    a_number = arr.count(\"A\")\n",
    "    print(\"There are \",a_number,\" patients of blood type A\")\n",
    "    ab_number = arr.count(\"AB\")\n",
    "    print(\"There are \",ab_number,\" patients of blood type ab\")\n",
    "    o_number = arr.count(\"O\")\n",
    "    print(\"There are \",o_number,\" patients of blood type O\")\n",
    "    oo_number = arr.count(\"OO\")\n",
    "    print(\"There are \",oo_number,\" patients of blood type OO\")\n",
    "    b_number = arr.count(\"B\")\n",
    "    print(\"There are \",b_number,\" patients of blood type B\")\n",
    "\n",
    "\n",
    "bldcount(bloodrecord)\n",
    "\n",
    "\n",
    "\n"
   ]
  },
  {
   "cell_type": "markdown",
   "metadata": {},
   "source": [
    "## Question 8\n",
    "\n",
    "Write a function curconv() that takes as input:\n",
    "\n",
    "1. a currency represented using a string (e.g., 'JPY' for the Japanese Yen or\n",
    "'EUR' for the Euro)\n",
    "\n",
    "2. an amount\n",
    "and then converts and returns the amount in US dollars.\n",
    "\n",
    "curconv('EUR', 100)\n",
    "122.96544 \n",
    "curconv('JPY', 100)\n",
    "1.241401\n",
    "\n",
    "The currency rates you will need are stored in file currencies.txt:\n",
    "    \n",
    "AUD 1.0345157 Australian Dollar\n",
    "CHF 1.0237414 Swiss Franc\n",
    "CNY 0.1550176 Chinese Yuan\n",
    "DKK 0.1651442 Danish Krone\n",
    "EUR 1.2296544 Euro\n",
    "GBP 1.5550989 British Pound\n",
    "HKD 0.1270207 Hong Kong Dollar\n",
    "INR 0.0177643 Indian Rupee\n",
    "JPY 0.01241401 Japanese Yen\n",
    "MXN 0.0751848 Mexican Peso\n",
    "MYR 0.3145411 Malaysian Ringgit\n",
    "NOK 0.1677063 Norwegian Krone\n",
    "NZD 0.8003591 New Zealand Dollar\n",
    "PHP 0.0233234 Philippine Peso\n",
    "SEK 0.148269 Swedish Krona\n",
    "SGD 0.788871 Singapore Dollar\n",
    "THB 0.0313789 Thai Baht\n"
   ]
  },
  {
   "cell_type": "markdown",
   "metadata": {},
   "source": []
  },
  {
   "cell_type": "code",
   "execution_count": 62,
   "metadata": {},
   "outputs": [
    {
     "ename": "NameError",
     "evalue": "name 'requested_money' is not defined",
     "output_type": "error",
     "traceback": [
      "\u001b[1;31m---------------------------------------------------------------------------\u001b[0m",
      "\u001b[1;31mNameError\u001b[0m                                 Traceback (most recent call last)",
      "\u001b[1;32m<ipython-input-62-0a7568d47dd3>\u001b[0m in \u001b[0;36m<module>\u001b[1;34m\u001b[0m\n\u001b[0;32m     26\u001b[0m     \u001b[0mprint\u001b[0m\u001b[1;33m(\u001b[0m\u001b[0mconvertedprice\u001b[0m\u001b[1;33m)\u001b[0m\u001b[1;33m\u001b[0m\u001b[1;33m\u001b[0m\u001b[0m\n\u001b[0;32m     27\u001b[0m \u001b[1;33m\u001b[0m\u001b[0m\n\u001b[1;32m---> 28\u001b[1;33m \u001b[0mcurconv\u001b[0m\u001b[1;33m(\u001b[0m\u001b[1;34m'JPY'\u001b[0m\u001b[1;33m,\u001b[0m \u001b[1;36m100\u001b[0m\u001b[1;33m)\u001b[0m\u001b[1;33m\u001b[0m\u001b[1;33m\u001b[0m\u001b[0m\n\u001b[0m",
      "\u001b[1;32m<ipython-input-62-0a7568d47dd3>\u001b[0m in \u001b[0;36mcurconv\u001b[1;34m(req_currency, req_money)\u001b[0m\n\u001b[0;32m     23\u001b[0m \u001b[1;32mdef\u001b[0m \u001b[0mcurconv\u001b[0m\u001b[1;33m(\u001b[0m\u001b[0mreq_currency\u001b[0m\u001b[1;33m,\u001b[0m \u001b[0mreq_money\u001b[0m\u001b[1;33m)\u001b[0m\u001b[1;33m:\u001b[0m\u001b[1;33m\u001b[0m\u001b[1;33m\u001b[0m\u001b[0m\n\u001b[0;32m     24\u001b[0m \u001b[1;33m\u001b[0m\u001b[0m\n\u001b[1;32m---> 25\u001b[1;33m     \u001b[0mconvertedprice\u001b[0m \u001b[1;33m=\u001b[0m \u001b[0mint\u001b[0m\u001b[1;33m(\u001b[0m\u001b[0mrequested_money\u001b[0m\u001b[1;33m)\u001b[0m\u001b[1;33m*\u001b[0m\u001b[0mfloat\u001b[0m\u001b[1;33m(\u001b[0m\u001b[0mcurrency_price\u001b[0m\u001b[1;33m)\u001b[0m\u001b[1;33m\u001b[0m\u001b[1;33m\u001b[0m\u001b[0m\n\u001b[0m\u001b[0;32m     26\u001b[0m     \u001b[0mprint\u001b[0m\u001b[1;33m(\u001b[0m\u001b[0mconvertedprice\u001b[0m\u001b[1;33m)\u001b[0m\u001b[1;33m\u001b[0m\u001b[1;33m\u001b[0m\u001b[0m\n\u001b[0;32m     27\u001b[0m \u001b[1;33m\u001b[0m\u001b[0m\n",
      "\u001b[1;31mNameError\u001b[0m: name 'requested_money' is not defined"
     ]
    }
   ],
   "source": [
    "\n",
    "\n",
    "rate_list = \"\"\"\n",
    "AUD    1.0345157    Australian Dollar\n",
    "CHF    1.0237414    Swiss Franc\n",
    "CNY    0.1550176    Chinese Yuan\n",
    "DKK    0.1651442    Danish Krone\n",
    "EUR    1.2296544    Euro\n",
    "GBP    1.5550989    British Pound\n",
    "HKD    0.1270207    Hong Kong Dollar\n",
    "INR    0.0177643    Indian Rupee\n",
    "JPY    0.01241401    Japanese Yen\n",
    "MXN    0.0751848    Mexican Peso\n",
    "MYR    0.3145411    Malaysian Ringgit\n",
    "NOK    0.1677063    Norwegian Krone\n",
    "NZD    0.8003591    New Zealand Dollar\n",
    "PHP    0.0233234    Philippine Peso\n",
    "SEK    0.148269    Swedish Krona\n",
    "SGD    0.788871    Singapore Dollar\n",
    "THB    0.0313789    Thai Baht\n",
    "\"\"\"\n",
    "\n",
    "\n",
    "\n",
    "def curconv(req_currency, req_money):\n",
    "    \n",
    "    convertedprice = int(requested_money)*float(currency_price)\n",
    "    print(convertedprice)\n",
    "\n",
    "curconv('JPY', 100)\n"
   ]
  },
  {
   "cell_type": "markdown",
   "metadata": {},
   "source": [
    "## Question 9\n",
    "Each of the following will cause an exception (an error). Identify what type of\n",
    "exception each will cause.\n",
    "Trying to add incompatible variables, as in\n",
    "adding 6 + ‘a’\n",
    "Referring to the 12th item of a list that has only 10\n",
    "items\n",
    "Using a value that is out of range for a function’s\n",
    "input, such as calling math.sqrt(-1.0)\n",
    "Using an undeclared variable, such as print(x)\n",
    "when x has not been defined\n",
    "Trying to open a file that does not exist, such as\n",
    "mistyping the file name or looking in the wrong\n",
    "directory."
   ]
  },
  {
   "cell_type": "markdown",
   "metadata": {},
   "source": [
    "Trying to add incompatible variables, as in\n",
    "adding 6 + ‘a’\n",
    "\n",
    "Message: unsupported operand type(s) for +: 'int' and 'str'\n",
    "        \n",
    "Referring to the 12th item of a list that has only 10 items\n",
    "\n",
    "Message: IndexError: list index out of range\n",
    "        \n",
    "Using an undeclared variable, such as print(x)\n",
    "when x has not been defined\n",
    "\n",
    "Message: name 'x' is not defined\n",
    "    \n",
    "Using a value that is out of range for a function’s\n",
    "input, such as calling math.sqrt(-1.0)\n",
    "\n",
    "Message: ValueError: math domain error\n",
    "\n",
    "Trying to open a file that does not exist, such as\n",
    "mistyping the file name or looking in the wrong\n",
    "directory.    \n",
    "\n",
    "Message: No such file or directory: 'test.txt'\n",
    "        \n",
    "        \n"
   ]
  },
  {
   "cell_type": "markdown",
   "metadata": {},
   "source": [
    "## Question 10 \n",
    "\n",
    "Encryption is the process of hiding the meaning of a text by substituting letters in the\n",
    "message with other letters, according to some system. If the process is successful, no\n",
    "one but the intended recipient can understand the encrypted message. Cryptanalysis\n",
    "refers to attempts to undo the encryption, even if some details of the encryption are\n",
    "unknown (for example, if an encrypted message has been intercepted). The first step\n",
    "of cryptanalysis is often to build up a table of letter frequencies in the encrypted text.\n",
    "Assume that the string letters is already defined as\n",
    "'abcdefghijklmnopqrstuvwxyz'. \n",
    "\n",
    "Write a function called frequencies()\n",
    "that takes a string as its only parameter, and returns a list of integers, showing the\n",
    "number of times each character appears in the text. Your function may ignore any\n",
    "characters that are not in letters.\n",
    ">>> frequencies('The quick red fox got bored and went home.')\n",
    "[1, 1, 1, 3, 5, 1, 1, 2, 1, 0, 1, 0, 1, 2, 4, 0, 1, 2, 0, 2,\n",
    "1, 0, 1, 1, 0, 0]\n",
    ">>> frequencies('apple')"
   ]
  },
  {
   "cell_type": "code",
   "execution_count": 56,
   "metadata": {},
   "outputs": [
    {
     "name": "stdout",
     "output_type": "stream",
     "text": [
      "1\n",
      "1\n",
      "1\n",
      "3\n",
      "5\n",
      "1\n",
      "1\n",
      "2\n",
      "1\n",
      "0\n",
      "1\n",
      "0\n",
      "1\n",
      "2\n",
      "4\n",
      "0\n",
      "1\n",
      "2\n",
      "0\n",
      "2\n",
      "1\n",
      "0\n",
      "1\n",
      "1\n",
      "0\n",
      "0\n"
     ]
    }
   ],
   "source": [
    "\n",
    "alphabet=['a','b','c','d','e','f','g','h','i','j','k','l','m','n','o','p','q','r','s','t','u','v','w','x','y','z']\n",
    "\n",
    "def frequencies(text):\n",
    "\n",
    "    for i in range(0,26):\n",
    "        print(word.count(alphabet[i]),)\n",
    " \n",
    "    \n",
    "frequencies(\"The quick red fox got bored and went home.\")"
   ]
  },
  {
   "cell_type": "markdown",
   "metadata": {},
   "source": [
    "## Refrence\n",
    "\n",
    "https://www.w3schools.com/python/python_file_open.asp\n",
    "https://www.tutorialspoint.com/python/index.htm"
   ]
  }
 ],
 "metadata": {
  "kernelspec": {
   "display_name": "Python 3",
   "language": "python",
   "name": "python3"
  },
  "language_info": {
   "codemirror_mode": {
    "name": "ipython",
    "version": 3
   },
   "file_extension": ".py",
   "mimetype": "text/x-python",
   "name": "python",
   "nbconvert_exporter": "python",
   "pygments_lexer": "ipython3",
   "version": "3.8.5"
  }
 },
 "nbformat": 4,
 "nbformat_minor": 4
}
